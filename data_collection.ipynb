{
 "cells": [
  {
   "cell_type": "markdown",
   "id": "f27ac4cc-c0f7-440c-80f2-3f1f7def4b25",
   "metadata": {},
   "source": [
    "Imports"
   ]
  },
  {
   "cell_type": "code",
   "execution_count": 95,
   "id": "a82f12c6-bcdc-49c7-b6cd-7682a0eb08f0",
   "metadata": {},
   "outputs": [],
   "source": [
    "import requests\n",
    "import time\n",
    "from secret import POLYGON_API_KEY\n",
    "import datetime\n",
    "import polars as pl\n",
    "import logging\n",
    "import numpy as np"
   ]
  },
  {
   "cell_type": "markdown",
   "id": "8000e74d",
   "metadata": {},
   "source": [
    "name: get_paginated_request\n",
    "function: retrieves all data from a paginated polygon api request in one polars dataframe\n",
    "inputs:\n",
    "    request_url (required) [string]: the initial http request to execute\n",
    "    df_schema (optional) [dictionary]: a dictionary of column: type pairs to define the schema for the results dataframe. defaults to no schema, which could lead to dataframe stacking errors\n",
    "output: a polars dataframe containing all the results of the http request merged"
   ]
  },
  {
   "cell_type": "code",
   "execution_count": 96,
   "id": "2e79a390",
   "metadata": {},
   "outputs": [],
   "source": [
    "def get_paginated_request(request_url, df_schema = None):\n",
    "    request_response = requests.get(request_url)\n",
    "    if request_response.status_code != 200:\n",
    "        raise ValueError(f'http request failed: {request_url}')\n",
    "    request_json = request_response.json()\n",
    "    if request_json['status'] == 'ERROR':\n",
    "        time.sleep(70)\n",
    "    results_df = pl.DataFrame(schema=df_schema, data=request_json['results'])\n",
    "\n",
    "    while 'next_url' in request_json:\n",
    "        request_url = f'{request_json['next_url']}&apiKey={POLYGON_API_KEY}'\n",
    "        request_json = requests.get(request_url).json()\n",
    "        if request_json['status'] == 'ERROR':\n",
    "            time.sleep(70)\n",
    "            request_json= requests.get(request_url).json()\n",
    "        page_df = pl.DataFrame(schema = df_schema, data = request_json['results'])\n",
    "        results_df.vstack(page_df, in_place=True)\n",
    "    return results_df"
   ]
  },
  {
   "cell_type": "markdown",
   "id": "80e0112b",
   "metadata": {},
   "source": [
    "name: _set_ticker_types (private)\n",
    "function: works as a helper function for get_historical_tickers to set the ticker_list arg, setting it to an np array of strings from a string, list, or none"
   ]
  },
  {
   "cell_type": "code",
   "execution_count": 97,
   "id": "2c979df2",
   "metadata": {},
   "outputs": [],
   "source": [
    "def _set_ticker_types(ticker_types):\n",
    "    if ticker_list == None:\n",
    "        request_url = f'https://api.polygon.io/v3/reference/tickers/types?asset_class=stocks&locale=us&apiKey={POLYGON_API_KEY}'\n",
    "        ticker_types_df = get_paginated_request(request_url=request_url)\n",
    "        ticker_list = ticker_types_df.select(pl.col('code')).to_numpy()\n",
    "        return ticker_list\n",
    "    elif isinstance(ticker_list, str):\n",
    "        ticker_list = np.array(ticker_list)\n",
    "        return ticker_list\n",
    "    elif isinstance(ticker_list, np.ndarray):\n",
    "        if ticker_list.dtype.type == np.str_:\n",
    "            return ticker_list\n",
    "        else: raise TypeError('ticker list must be strings')\n",
    "    elif isinstance(ticker_list, list):\n",
    "        ticker_list = np.array(ticker_list)\n",
    "        if ticker_list.dtype.type == np.str_:\n",
    "            return ticker_list\n",
    "        else: raise TypeError('ticker list must be strings')\n",
    "    else:\n",
    "        raise TypeError('ticker list must be string, or list/np array of strings')\n"
   ]
  },
  {
   "cell_type": "markdown",
   "id": "28a7ab99-c602-43f6-b606-4be3c0002017",
   "metadata": {},
   "source": [
    "name: get_historical_tickers\n",
    "function: Returns a full dataframe of listed and delisted tickers including all ticker types\n",
    "inputs: \n",
    "    ticker_types (optional): The types of tickers to include in the final list of tickers. can be any value(s) in [\"CS\", \"PFD\", \"WARRANT\", \"RIGHT\", \"BOND\", \"ETF\", \"ETN\", \"ETV\", \"SP\", \"ADRC\", \"ADRP\", \"ADRW\", \"ADRR\", \"FUND\" \"BASKET\", \"UNIT\" \"LT\", \"OS\", \"GDR\", \"OTHER\", \"NYRS\", \"AGEN\", \"EQLK\", \"ETS\"]. Defaults to all ticker types\n",
    "    include_delisted (optional): whether or not to include delisted tickers, default true\n",
    "    output: a polars dataframe containing an row for every ticker with a schema of {'ticker': str, 'name': str, 'market': str, 'locale': str, 'primary_exchange': str,      'type': str, 'active': bool, 'currency_name': str, 'cik': str, 'last_updated_utc': str, 'delisted_utc': str, 'composite_figi': str, 'share_class_figi': str}"
   ]
  },
  {
   "cell_type": "code",
   "execution_count": 98,
   "id": "7717e514",
   "metadata": {},
   "outputs": [],
   "source": [
    "def get_historical_tickers(ticker_types = None, include_delisted = True):\n",
    "    ticker_types = _set_ticker_types(ticker_types)\n",
    "    df_schema = {'ticker': str, 'name': str, 'market': str, 'locale': str, 'primary_exchange': str, 'type': str, 'active': bool, 'currency_name': str, 'cik': str, 'last_updated_utc': str, 'delisted_utc': str, 'composite_figi': str, 'share_class_figi': str}\n",
    "    full_df = pl.DataFrame(schema = df_schema)\n",
    "    \n",
    "    for ticker_type in ticker_types:\n",
    "        request_url = f'https://api.polygon.io/v3/reference/tickers?type={ticker_type}&market=stocks&active=true&order=asc&limit=1000&sort=ticker&apiKey={POLYGON_API_KEY}'\n",
    "        listed_df = get_paginated_request(request_url=request_url, df_schema=df_schema)\n",
    "        full_df.vstack(listed_df, in_place=True)\n",
    "\n",
    "        if not include_delisted:\n",
    "            continue\n",
    "\n",
    "        request_url = f'https://api.polygon.io/v3/reference/tickers?type={ticker_type}&market=stocks&active=false&order=asc&limit=1000&sort=ticker&apiKey={POLYGON_API_KEY}'\n",
    "        unlisted_df = get_paginated_request(request_url=request_url, df_schema=df_schema)\n",
    "        full_df.vstack(unlisted_df, in_place=True)\n",
    "    return full_df"
   ]
  },
  {
   "cell_type": "markdown",
   "id": "de083e1a",
   "metadata": {},
   "source": [
    "name: _get_data_input_validator (private)\n",
    "function: works as a helper function for get_data by checking types and values of inputs, in order to make the main get_data function more readable"
   ]
  },
  {
   "cell_type": "code",
   "execution_count": 99,
   "id": "8d965301",
   "metadata": {},
   "outputs": [],
   "source": [
    "def _get_data_input_validator(start_date, end_date, timeframe, multiplier):\n",
    "    if(end_date < start_date):\n",
    "        raise ValueError('start_date must be earlier than end_date')\n",
    "    valid_timeframes = {'hour', 'day', 'minute', 'week', 'month', 'quarter', 'year', 'second'}\n",
    "    if timeframe not in valid_timeframes:\n",
    "        raise ValueError(f'invalid timeframe argument, must be one of {valid_timeframes}.')\n",
    "    if not isinstance(multiplier, int) or multiplier < 1:\n",
    "        raise ValueError('multiplier must be an integer greater than 0')"
   ]
  },
  {
   "cell_type": "markdown",
   "id": "05072067",
   "metadata": {},
   "source": [
    "name: _set_tickers (private)\n",
    "function: works as a helper function for get_data by processing the input for the \"tickers\" arg, and either converting it to a numpy string array or throwing an exception"
   ]
  },
  {
   "cell_type": "code",
   "execution_count": 100,
   "id": "784f87aa",
   "metadata": {},
   "outputs": [],
   "source": [
    "def _set_tickers(tickers):\n",
    "    if tickers == None:\n",
    "        return pl.read_parquet('Data/tickers.parquet').select(pl.col('ticker')).to_numpy()\n",
    "    elif isinstance(tickers, np.ndarray):\n",
    "        if tickers.dtype.type == str:\n",
    "            return tickers\n",
    "        else: raise TypeError('arg tickers must be an array of strings')\n",
    "    elif isinstance(tickers, str):\n",
    "        return np.array(tickers)\n",
    "    elif isinstance(tickers, list):\n",
    "        tickers = np.array(tickers)\n",
    "        if tickers.dtype.type == str:\n",
    "            return tickers\n",
    "        else: raise TypeError('arg tickers must be an array of strings')\n",
    "    elif isinstance(tickers, pl.dataframe.frame.DataFrame):\n",
    "        try:\n",
    "            arr = tickers.select(pl.col('ticker')).to_numpy()\n",
    "            return arr\n",
    "        except pl.dataframe.frame.ColumnNotFoundError:\n",
    "            logging.exception('the dataframe passed for tickers arg does not contain a column named \"ticker\"')\n",
    "    else:\n",
    "        raise TypeError('invalid tickers argument: must be of type string, string list, or polars dataframe with a \"ticker\" column. leave empty for all tickers')"
   ]
  },
  {
   "cell_type": "markdown",
   "id": "443b874c",
   "metadata": {},
   "source": [
    "name: _set_date (private)\n",
    "function: works as a helper function for get_data by processing date arguments, and converting them into isoformat from unix millisecond timestamp or datetime objects"
   ]
  },
  {
   "cell_type": "code",
   "execution_count": 101,
   "id": "8bad03f6",
   "metadata": {},
   "outputs": [],
   "source": [
    "def _set_date(date, position):\n",
    "    if isinstance(date, str):\n",
    "        try:\n",
    "            datetime.date.fromisoformat(date)\n",
    "            return date\n",
    "        except (ValueError, TypeError):\n",
    "            logging.exception(f'{position}_date arg must be in isoformat: YYYY-MM-DD')\n",
    "    elif isinstance(date, int):\n",
    "        try:\n",
    "            date = datetime.date.fromtimestamp(date)\n",
    "            return date.isoformat()\n",
    "        except ValueError:\n",
    "            logging.exception(f'{position}_date arg unix timestamp out of range')\n",
    "    elif isinstance(date, datetime.date):\n",
    "        return date.isoformat()\n",
    "    elif isinstance(date, datetime.datetime):\n",
    "        return date.date().isoformat()\n",
    "    else:\n",
    "        raise TypeError(f'{position}_date arg must be isoformat date string, unix millisecond timestamp, date object, or datetime object')\n",
    "            \n",
    "    "
   ]
  },
  {
   "cell_type": "markdown",
   "id": "487d72b5",
   "metadata": {},
   "source": [
    "name: get_data\n",
    "function: gathers historical data into a polars dataframe for analysis or exportation\n",
    "inputs:\n",
    "    start_date (optional) [string]: an isoformat date representing the day to start collecting stock data, defaults to 2000-01-01\n",
    "    end_date (optional) [string]: an isoformat date representing the day to stop collecting stock data. Must occur after start_date, defaults to today's date\n",
    "    tickers (optional) [string || string list || polars dataframe]: the tickers to gather data for over the date range. if a polars dataframe is given it must have a \"ticker\" column. defaults to all tickers in history\n",
    "    timeframe (optional) [string]: the base timeframe to use for agreggates. Can be any of [second, minute, hour, day, week, month, quarter, year]. defaults to \"day\"\n",
    "    multiplier (optional) [integer]: A multiplier for the timeframe parameter. ex: multiplier: 5, timeframe: minute gets 5 minute bars. defaults to 1\n",
    "output:\n",
    "    polars dataframe with columns [ticker, timestamp, o, h, l, c, v, vw, n, otc, t] for each ohlc bar\n",
    "    ticker (required) [string]: the ticker of the stock traded in the ohlc bar\n",
    "    timestamp (required) [string]: a string containing the date and time of the phlc bar\n",
    "    o (required) [float]: the open price of the bar\n",
    "    h (required) [float]: the high price of the bar\n",
    "    l (required) [float]: the low price of the bar\n",
    "    c (required) [float]: the closing price of the bar\n",
    "    v (required) [float]: the number of shares traded during the bar \n",
    "    vw (required) [float]: the volume weighted average price of the stock \n",
    "    n (optional) [integer]: the number of transactions made during the bar\n",
    "    otc (optional) [boolean]: true if the stock is an otc ticker, null otherwise\n",
    "    t (required) [integer]: the unix millisecond timestamp of the bar"
   ]
  },
  {
   "cell_type": "code",
   "execution_count": 102,
   "id": "c3b65808",
   "metadata": {},
   "outputs": [],
   "source": [
    "def get_data(start_date = '2000-01-01', end_date = datetime.date.today(), tickers = None, timeframe = 'day', multiplier = 1):\n",
    "    _set_date(start_date, 'start')\n",
    "    _set_date(end_date, 'end')\n",
    "    _set_tickers(tickers)\n",
    "    _get_data_input_validator(start_date, end_date, timeframe, multiplier)\n",
    "    \n",
    "    print(tickers)"
   ]
  }
 ],
 "metadata": {
  "kernelspec": {
   "display_name": "env",
   "language": "python",
   "name": "python3"
  },
  "language_info": {
   "codemirror_mode": {
    "name": "ipython",
    "version": 3
   },
   "file_extension": ".py",
   "mimetype": "text/x-python",
   "name": "python",
   "nbconvert_exporter": "python",
   "pygments_lexer": "ipython3",
   "version": "3.12.3"
  }
 },
 "nbformat": 4,
 "nbformat_minor": 5
}
