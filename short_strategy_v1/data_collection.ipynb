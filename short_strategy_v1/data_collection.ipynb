{
 "cells": [
  {
   "cell_type": "markdown",
   "id": "f27ac4cc-c0f7-440c-80f2-3f1f7def4b25",
   "metadata": {},
   "source": [
    "Imports"
   ]
  },
  {
   "cell_type": "code",
   "execution_count": 33,
   "id": "a82f12c6-bcdc-49c7-b6cd-7682a0eb08f0",
   "metadata": {},
   "outputs": [],
   "source": [
    "import requests\n",
    "import pymongo\n",
    "import time\n",
    "import pandas as pd\n",
    "from secret import POLYGON_API_KEY\n",
    "from global_variables import *\n",
    "\n",
    "client = mongo_connect(ALGO_TRADING_DB_STRING)\n",
    "database = get_database(client, 'algo_trading')\n",
    "basic_data_collection = get_collection(database, 'basic_data')\n"
   ]
  },
  {
   "cell_type": "markdown",
   "id": "bed23dce-7648-412e-95ed-58fd5b812bfa",
   "metadata": {},
   "source": [
    "Gets market summary from polygon api given dates\n",
    "input: \n",
    "    Dates: a list of dates in isoformat (required)\n",
    "outputs:\n",
    "    data_list: a list containg dictionaries with the following structure:\n",
    "        Date: date the data was pulled from\n",
    "        Data: a dictionary filled with a seperate dictionary for each ticker with the following structure:\n",
    "            {stock symbol}:\n",
    "                v: volume (float)\n",
    "                vw: volume weighted price (float)\n",
    "                o: open price (float)\n",
    "                c: close price (float)\n",
    "                l: low price (float)\n",
    "                h: high price (float)\n",
    "                n: number of transactions (int)\n",
    "                t: unix milliseconds of close time (long)"
   ]
  },
  {
   "cell_type": "code",
   "execution_count": 26,
   "id": "c7d5bf3b-fabc-4182-81fb-12097935d43b",
   "metadata": {},
   "outputs": [],
   "source": [
    "def get_stock_data(dates):\n",
    "    data_list = []\n",
    "    for i in range(len(dates)):\n",
    "        date = dates[i]\n",
    "        daily_data = requests.get(f'https://api.polygon.io/v2/aggs/grouped/locale/us/market/stocks/{date}?adjusted=true&apiKey={POLYGON_API_KEY}')\n",
    "        daily_data = daily_data.json()\n",
    "        if daily_data['status'] == 'ERROR': \n",
    "            time.sleep(65)\n",
    "            i -= 1\n",
    "            continue\n",
    "        if daily_data['queryCount'] == 0: continue\n",
    "        daily_data_results = daily_data['results']\n",
    "        daily_data_dictionary = to_stock_dictionary(daily_data_results)\n",
    "        data_list.append({'Date': date, 'Data': daily_data_dictionary})\n",
    "        print(f'percent done: {(i / len(dates)) * 100}')\n",
    "    return data_list"
   ]
  },
  {
   "cell_type": "markdown",
   "id": "6572420c-94dc-4cb4-9b85-d4400bbd3d6f",
   "metadata": {},
   "source": [
    "Adds a key to a dictionary and returns the dictionary\n",
    "inputs:\n",
    "    key: the key to add to the dictionary (required)\n",
    "    value: the value to add to the given key (required)\n",
    "    dic: the dictionary to add the key/value pair to (optional, will add the key to an empty dictionary by default)\n",
    "output:\n",
    "    dic: the given dictionary with the key/value pair added"
   ]
  },
  {
   "cell_type": "code",
   "execution_count": 3,
   "id": "14460f5e-a7c1-4d82-9b4d-8b837c2f9715",
   "metadata": {},
   "outputs": [],
   "source": [
    "def add_key(key, value, dic = {}):\n",
    "    dic[key] = value\n",
    "    return dic"
   ]
  },
  {
   "cell_type": "markdown",
   "id": "c2d54ff8-14af-4264-88d8-ffaeca4d51ac",
   "metadata": {},
   "source": [
    "Replaces documents in a mongodb collection that have the same date\n",
    "inputs:\n",
    "    collection: the collection to replace documents in (required)\n",
    "    new_docs: an array containing the documents to replace with (required)\n",
    "    many: a boolean (optional, default false), false means each document in new_docs will replace at most one document in collection with the same date. True means all documents in collection sharing a date with a document in new_docs will be replace (many -> one)\n",
    "output: none"
   ]
  },
  {
   "cell_type": "code",
   "execution_count": 25,
   "id": "4d81ddbb-4c65-4a5f-b245-6d47a98feebe",
   "metadata": {},
   "outputs": [],
   "source": [
    "def replace_by_date(collection, new_docs, many = False):\n",
    "    if many == False:\n",
    "        for doc in new_docs:\n",
    "            query_filter = {'Date': doc['Date']}\n",
    "            collection.replace_one(query_filter, doc)\n",
    "    else:\n",
    "        for doc in new_docs:\n",
    "            query_filter = {'Date': doc['Date']}\n",
    "            collection.delete_many(query_filter)\n",
    "            collection.insert_one(doc)"
   ]
  },
  {
   "cell_type": "markdown",
   "id": "b00cd03f-4c65-4ece-aed2-002052ba8ff2",
   "metadata": {},
   "source": [
    "Add the percent change to a document containg daily stock data\n",
    "inputs:\n",
    "    collection: the collection to change documents of (required)\n",
    "    documents: a cursor containg the documents to change (required)\n",
    "output:\n",
    "    none, modifies collection in-place"
   ]
  },
  {
   "cell_type": "code",
   "execution_count": 24,
   "id": "39dabbe4-19aa-4543-b700-a4b0a1181943",
   "metadata": {},
   "outputs": [],
   "source": [
    "def add_percent_change(collection, documents):\n",
    "    for doc in documents:\n",
    "        date = doc['Date']\n",
    "        data = doc['Data']\n",
    "        for ticker in data.keys():\n",
    "            prev_price = data[ticker]['o']\n",
    "            curr_price = data[ticker]['c']\n",
    "            price_change_percent = ((curr_price / prev_price) - 1) * 100\n",
    "            data[ticker]['percent change'] = price_change_percent\n",
    "        update_query = {'Date': date}\n",
    "        update_operator = {'$set':\n",
    "                {'Data': data}\n",
    "        }\n",
    "        collection.update_one(update_query, update_operator)"
   ]
  },
  {
   "cell_type": "code",
   "execution_count": 23,
   "id": "2969d051-e6fc-4f41-98b1-509f438db54c",
   "metadata": {},
   "outputs": [],
   "source": [
    "def remove_suffixes(stock_array, suffixes = []):\n",
    "    i = 0\n",
    "    while i < len(stock_array):\n",
    "        ticker = stock_array[i]['T']\n",
    "        if '.' not in ticker:\n",
    "            i += 1\n",
    "            continue\n",
    "        suffix = ticker.split('.')[1]\n",
    "        if suffix in suffixes:\n",
    "            del stock_array[i]\n",
    "        else:\n",
    "            i += 1\n",
    "    return stock_array"
   ]
  },
  {
   "cell_type": "markdown",
   "id": "0a997852-16af-4c0e-8391-98fd1f8f1c45",
   "metadata": {},
   "source": [
    "filters out documents with the given suffixes \n",
    "inputs:\n",
    "    collection: the mongodb collection to replace documents in (by document date)\n",
    "    docs: a cursor containing the documents to be filtered\n",
    "    suffixes: a list of suffixes to be filtered"
   ]
  },
  {
   "cell_type": "code",
   "execution_count": 27,
   "id": "78a6ab88-6c01-4c0f-9768-91502bd70859",
   "metadata": {},
   "outputs": [],
   "source": [
    "def filter_suffixes(collection, docs, suffixes):\n",
    "    new_docs = []\n",
    "    for doc in docs:\n",
    "        stock_array = to_stock_array(doc['Data'])\n",
    "        stock_array = remove_suffixes(stock_array, suffixes)\n",
    "        stock_dictionary = to_stock_dictionary(stock_array)\n",
    "        doc['Data'] = stock_dictionary\n",
    "        new_docs.append(doc)\n",
    "    replace_by_date(collection, new_docs)\n"
   ]
  },
  {
   "cell_type": "code",
   "execution_count": 35,
   "id": "43b18445-4f9a-4605-9352-32d69fc81c4b",
   "metadata": {},
   "outputs": [],
   "source": [
    "def remove_warrants(stock_array):\n",
    "    i = 0\n",
    "    while i < len(stock_array):\n",
    "        symbol = stock_array[i]['T']\n",
    "        if len(symbol) > 4 and symbol[4] == 'W' and '.' not in symbol and 'p' not in symbol:\n",
    "            del stock_array[i]\n",
    "        else:\n",
    "            i += 1\n",
    "    return stock_array\n",
    "                "
   ]
  },
  {
   "cell_type": "code",
   "execution_count": 29,
   "id": "7725c042-bbc1-4658-ab57-e91fae3ba653",
   "metadata": {},
   "outputs": [],
   "source": [
    "def filter_warrants(collection, docs):\n",
    "    new_docs = []\n",
    "    for doc in docs:\n",
    "        stock_array = to_stock_array(doc['Data'])\n",
    "        stock_array = remove_warrants(stock_array)\n",
    "        stock_dictionary = to_stock_dictionary(stock_array)\n",
    "        doc['Data'] = stock_dictionary\n",
    "        new_docs.append(doc)\n",
    "    return new_docs"
   ]
  },
  {
   "cell_type": "code",
   "execution_count": null,
   "id": "7a6eb9ed-fa76-4763-bfde-42f46805a719",
   "metadata": {},
   "outputs": [],
   "source": [
    "no_warrants = filter_warrants(basic_data_collection, basic_data_collection.find({'Date': '2025-04-09'}))\n",
    "a = 1"
   ]
  }
 ],
 "metadata": {
  "kernelspec": {
   "display_name": "Python 3 (ipykernel)",
   "language": "python",
   "name": "python3"
  },
  "language_info": {
   "codemirror_mode": {
    "name": "ipython",
    "version": 3
   },
   "file_extension": ".py",
   "mimetype": "text/x-python",
   "name": "python",
   "nbconvert_exporter": "python",
   "pygments_lexer": "ipython3",
   "version": "3.12.3"
  }
 },
 "nbformat": 4,
 "nbformat_minor": 5
}
