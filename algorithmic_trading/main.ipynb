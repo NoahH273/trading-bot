{
 "cells": [
  {
   "cell_type": "code",
   "execution_count": 1,
   "id": "fdf238a6",
   "metadata": {},
   "outputs": [],
   "source": [
    "from helper import Helper\n",
    "from data_manager import DataManager\n",
    "import numpy as np\n",
    "import polars as pl\n",
    "import datetime\n"
   ]
  },
  {
   "cell_type": "code",
   "execution_count": null,
   "id": "b0a258b3",
   "metadata": {},
   "outputs": [
    {
     "data": {
      "text/html": [
       "<div><style>\n",
       ".dataframe > thead > tr,\n",
       ".dataframe > tbody > tr {\n",
       "  text-align: right;\n",
       "  white-space: pre-wrap;\n",
       "}\n",
       "</style>\n",
       "<small>shape: (1_449, 11)</small><table border=\"1\" class=\"dataframe\"><thead><tr><th>ticker</th><th>timestamp</th><th>o</th><th>h</th><th>l</th><th>c</th><th>v</th><th>vw</th><th>n</th><th>otc</th><th>t</th></tr><tr><td>str</td><td>str</td><td>f64</td><td>f64</td><td>f64</td><td>f64</td><td>f64</td><td>f64</td><td>i64</td><td>bool</td><td>i64</td></tr></thead><tbody><tr><td>&quot;AAPL&quot;</td><td>&quot;2024-08-01T08:00:00+00:00&quot;</td><td>223.8</td><td>223.8</td><td>223.4</td><td>223.43</td><td>2750.0</td><td>223.685</td><td>129</td><td>false</td><td>1722499200000</td></tr><tr><td>&quot;AAPL&quot;</td><td>&quot;2024-08-01T08:01:00+00:00&quot;</td><td>223.45</td><td>223.6</td><td>223.34</td><td>223.6</td><td>4901.0</td><td>223.5686</td><td>77</td><td>false</td><td>1722499260000</td></tr><tr><td>&quot;AAPL&quot;</td><td>&quot;2024-08-01T08:04:00+00:00&quot;</td><td>223.42</td><td>223.42</td><td>223.42</td><td>223.42</td><td>972.0</td><td>223.5357</td><td>27</td><td>false</td><td>1722499440000</td></tr><tr><td>&quot;AAPL&quot;</td><td>&quot;2024-08-01T08:05:00+00:00&quot;</td><td>223.5</td><td>223.5</td><td>223.5</td><td>223.5</td><td>347.0</td><td>223.4694</td><td>20</td><td>false</td><td>1722499500000</td></tr><tr><td>&quot;AAPL&quot;</td><td>&quot;2024-08-01T08:06:00+00:00&quot;</td><td>223.49</td><td>223.52</td><td>223.49</td><td>223.52</td><td>500.0</td><td>223.5008</td><td>17</td><td>false</td><td>1722499560000</td></tr><tr><td>&hellip;</td><td>&hellip;</td><td>&hellip;</td><td>&hellip;</td><td>&hellip;</td><td>&hellip;</td><td>&hellip;</td><td>&hellip;</td><td>&hellip;</td><td>&hellip;</td><td>&hellip;</td></tr><tr><td>&quot;GOOG&quot;</td><td>&quot;2024-08-01T23:42:00+00:00&quot;</td><td>172.45</td><td>172.45</td><td>172.25</td><td>172.25</td><td>2357.0</td><td>172.4165</td><td>34</td><td>false</td><td>1722555720000</td></tr><tr><td>&quot;GOOG&quot;</td><td>&quot;2024-08-01T23:43:00+00:00&quot;</td><td>172.34</td><td>172.34</td><td>172.34</td><td>172.34</td><td>295.0</td><td>172.2687</td><td>13</td><td>false</td><td>1722555780000</td></tr><tr><td>&quot;GOOG&quot;</td><td>&quot;2024-08-01T23:52:00+00:00&quot;</td><td>172.11</td><td>172.11</td><td>172.11</td><td>172.11</td><td>203.0</td><td>172.111</td><td>3</td><td>false</td><td>1722556320000</td></tr><tr><td>&quot;GOOG&quot;</td><td>&quot;2024-08-01T23:54:00+00:00&quot;</td><td>172.1</td><td>172.1</td><td>172.1</td><td>172.1</td><td>627.0</td><td>172.1</td><td>6</td><td>false</td><td>1722556440000</td></tr><tr><td>&quot;GOOG&quot;</td><td>&quot;2024-08-01T23:57:00+00:00&quot;</td><td>172.01</td><td>172.02</td><td>172.01</td><td>172.02</td><td>1388.0</td><td>172.0123</td><td>12</td><td>false</td><td>1722556620000</td></tr></tbody></table></div>"
      ],
      "text/plain": [
       "shape: (1_449, 11)\n",
       "┌────────┬──────────────────────────┬────────┬────────┬───┬──────────┬─────┬───────┬───────────────┐\n",
       "│ ticker ┆ timestamp                ┆ o      ┆ h      ┆ … ┆ vw       ┆ n   ┆ otc   ┆ t             │\n",
       "│ ---    ┆ ---                      ┆ ---    ┆ ---    ┆   ┆ ---      ┆ --- ┆ ---   ┆ ---           │\n",
       "│ str    ┆ str                      ┆ f64    ┆ f64    ┆   ┆ f64      ┆ i64 ┆ bool  ┆ i64           │\n",
       "╞════════╪══════════════════════════╪════════╪════════╪═══╪══════════╪═════╪═══════╪═══════════════╡\n",
       "│ AAPL   ┆ 2024-08-01T08:00:00+00:0 ┆ 223.8  ┆ 223.8  ┆ … ┆ 223.685  ┆ 129 ┆ false ┆ 1722499200000 │\n",
       "│        ┆ 0                        ┆        ┆        ┆   ┆          ┆     ┆       ┆               │\n",
       "│ AAPL   ┆ 2024-08-01T08:01:00+00:0 ┆ 223.45 ┆ 223.6  ┆ … ┆ 223.5686 ┆ 77  ┆ false ┆ 1722499260000 │\n",
       "│        ┆ 0                        ┆        ┆        ┆   ┆          ┆     ┆       ┆               │\n",
       "│ AAPL   ┆ 2024-08-01T08:04:00+00:0 ┆ 223.42 ┆ 223.42 ┆ … ┆ 223.5357 ┆ 27  ┆ false ┆ 1722499440000 │\n",
       "│        ┆ 0                        ┆        ┆        ┆   ┆          ┆     ┆       ┆               │\n",
       "│ AAPL   ┆ 2024-08-01T08:05:00+00:0 ┆ 223.5  ┆ 223.5  ┆ … ┆ 223.4694 ┆ 20  ┆ false ┆ 1722499500000 │\n",
       "│        ┆ 0                        ┆        ┆        ┆   ┆          ┆     ┆       ┆               │\n",
       "│ AAPL   ┆ 2024-08-01T08:06:00+00:0 ┆ 223.49 ┆ 223.52 ┆ … ┆ 223.5008 ┆ 17  ┆ false ┆ 1722499560000 │\n",
       "│        ┆ 0                        ┆        ┆        ┆   ┆          ┆     ┆       ┆               │\n",
       "│ …      ┆ …                        ┆ …      ┆ …      ┆ … ┆ …        ┆ …   ┆ …     ┆ …             │\n",
       "│ GOOG   ┆ 2024-08-01T23:42:00+00:0 ┆ 172.45 ┆ 172.45 ┆ … ┆ 172.4165 ┆ 34  ┆ false ┆ 1722555720000 │\n",
       "│        ┆ 0                        ┆        ┆        ┆   ┆          ┆     ┆       ┆               │\n",
       "│ GOOG   ┆ 2024-08-01T23:43:00+00:0 ┆ 172.34 ┆ 172.34 ┆ … ┆ 172.2687 ┆ 13  ┆ false ┆ 1722555780000 │\n",
       "│        ┆ 0                        ┆        ┆        ┆   ┆          ┆     ┆       ┆               │\n",
       "│ GOOG   ┆ 2024-08-01T23:52:00+00:0 ┆ 172.11 ┆ 172.11 ┆ … ┆ 172.111  ┆ 3   ┆ false ┆ 1722556320000 │\n",
       "│        ┆ 0                        ┆        ┆        ┆   ┆          ┆     ┆       ┆               │\n",
       "│ GOOG   ┆ 2024-08-01T23:54:00+00:0 ┆ 172.1  ┆ 172.1  ┆ … ┆ 172.1    ┆ 6   ┆ false ┆ 1722556440000 │\n",
       "│        ┆ 0                        ┆        ┆        ┆   ┆          ┆     ┆       ┆               │\n",
       "│ GOOG   ┆ 2024-08-01T23:57:00+00:0 ┆ 172.01 ┆ 172.02 ┆ … ┆ 172.0123 ┆ 12  ┆ false ┆ 1722556620000 │\n",
       "│        ┆ 0                        ┆        ┆        ┆   ┆          ┆     ┆       ┆               │\n",
       "└────────┴──────────────────────────┴────────┴────────┴───┴──────────┴─────┴───────┴───────────────┘"
      ]
     },
     "execution_count": 3,
     "metadata": {},
     "output_type": "execute_result"
    }
   ],
   "source": [
    "DataManager.get_historical_ohlc(start_date='2024-08-01', end_date='2024-08-02', tickers=['AAPL', 'GOOG'], timeframe='minute', multiplier=5)"
   ]
  }
 ],
 "metadata": {
  "kernelspec": {
   "display_name": "venv",
   "language": "python",
   "name": "python3"
  },
  "language_info": {
   "codemirror_mode": {
    "name": "ipython",
    "version": 3
   },
   "file_extension": ".py",
   "mimetype": "text/x-python",
   "name": "python",
   "nbconvert_exporter": "python",
   "pygments_lexer": "ipython3",
   "version": "3.12.3"
  }
 },
 "nbformat": 4,
 "nbformat_minor": 5
}
