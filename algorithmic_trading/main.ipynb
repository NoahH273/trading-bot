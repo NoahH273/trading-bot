{
 "cells": [
  {
   "cell_type": "code",
   "execution_count": 1,
   "id": "fdf238a6",
   "metadata": {},
   "outputs": [],
   "source": [
    "from helper import Helper\n",
    "from data_manager import DataManager\n",
    "import numpy as np\n",
    "import polars as pl\n",
    "import datetime\n"
   ]
  },
  {
   "cell_type": "code",
   "execution_count": 6,
   "id": "b0a258b3",
   "metadata": {},
   "outputs": [
    {
     "data": {
      "text/plain": [
       "array(['A', 'AA', 'AACB', ..., 'TSLW', 'TSLY', 'URAX'],\n",
       "      shape=(31327,), dtype=object)"
      ]
     },
     "execution_count": 6,
     "metadata": {},
     "output_type": "execute_result"
    }
   ],
   "source": [
    "pl.read_parquet('Data/tickers.parquet').select(pl.col('ticker')).to_series().to_numpy()"
   ]
  }
 ],
 "metadata": {
  "kernelspec": {
   "display_name": "algorithmic-trading-GqUU0R4c-py3.12",
   "language": "python",
   "name": "python3"
  },
  "language_info": {
   "codemirror_mode": {
    "name": "ipython",
    "version": 3
   },
   "file_extension": ".py",
   "mimetype": "text/x-python",
   "name": "python",
   "nbconvert_exporter": "python",
   "pygments_lexer": "ipython3",
   "version": "3.12.3"
  }
 },
 "nbformat": 4,
 "nbformat_minor": 5
}
