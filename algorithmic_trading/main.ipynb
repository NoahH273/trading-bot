{
 "cells": [
  {
   "cell_type": "code",
   "execution_count": 2,
   "id": "fdf238a6",
   "metadata": {},
   "outputs": [],
   "source": [
    "from helper import Helper\n",
    "from data_manager import DataManager\n",
    "import numpy as np\n",
    "import polars as pl\n",
    "import datetime\n"
   ]
  },
  {
   "cell_type": "code",
   "execution_count": 8,
   "id": "b0a258b3",
   "metadata": {},
   "outputs": [
    {
     "name": "stdout",
     "output_type": "stream",
     "text": [
      "1754352000000\n",
      "1754611200000\n"
     ]
    },
    {
     "data": {
      "text/html": [
       "<div><style>\n",
       ".dataframe > thead > tr,\n",
       ".dataframe > tbody > tr {\n",
       "  text-align: right;\n",
       "  white-space: pre-wrap;\n",
       "}\n",
       "</style>\n",
       "<small>shape: (6, 11)</small><table border=\"1\" class=\"dataframe\"><thead><tr><th>ticker</th><th>timestamp</th><th>o</th><th>h</th><th>l</th><th>c</th><th>v</th><th>vw</th><th>n</th><th>otc</th><th>t</th></tr><tr><td>str</td><td>str</td><td>f64</td><td>f64</td><td>f64</td><td>f64</td><td>f64</td><td>f64</td><td>i64</td><td>bool</td><td>i64</td></tr></thead><tbody><tr><td>&quot;AAPL&quot;</td><td>&quot;2025-08-04T04:00:00+00:00&quot;</td><td>204.505</td><td>207.88</td><td>201.675</td><td>203.35</td><td>7.5109298e7</td><td>204.2151</td><td>785189</td><td>false</td><td>1754280000000</td></tr><tr><td>&quot;AAPL&quot;</td><td>&quot;2025-08-05T04:00:00+00:00&quot;</td><td>203.4</td><td>205.34</td><td>202.16</td><td>202.92</td><td>4.4155079e7</td><td>203.548</td><td>491748</td><td>false</td><td>1754366400000</td></tr><tr><td>&quot;AAPL&quot;</td><td>&quot;2025-08-06T04:00:00+00:00&quot;</td><td>205.63</td><td>215.38</td><td>205.59</td><td>213.25</td><td>1.08483103e8</td><td>212.8573</td><td>1104103</td><td>false</td><td>1754452800000</td></tr><tr><td>&quot;GOOG&quot;</td><td>&quot;2025-08-04T04:00:00+00:00&quot;</td><td>191.175</td><td>196.08</td><td>190.92</td><td>195.75</td><td>2.338595e7</td><td>194.6919</td><td>307973</td><td>false</td><td>1754280000000</td></tr><tr><td>&quot;GOOG&quot;</td><td>&quot;2025-08-05T04:00:00+00:00&quot;</td><td>195.545</td><td>198.7</td><td>194.675</td><td>195.32</td><td>1.9010151e7</td><td>196.1972</td><td>251137</td><td>false</td><td>1754366400000</td></tr><tr><td>&quot;GOOG&quot;</td><td>&quot;2025-08-06T04:00:00+00:00&quot;</td><td>195.25</td><td>197.38</td><td>194.4673</td><td>196.92</td><td>1.5383679e7</td><td>196.368</td><td>220636</td><td>false</td><td>1754452800000</td></tr></tbody></table></div>"
      ],
      "text/plain": [
       "shape: (6, 11)\n",
       "┌────────┬─────────────────────┬─────────┬────────┬───┬──────────┬─────────┬───────┬───────────────┐\n",
       "│ ticker ┆ timestamp           ┆ o       ┆ h      ┆ … ┆ vw       ┆ n       ┆ otc   ┆ t             │\n",
       "│ ---    ┆ ---                 ┆ ---     ┆ ---    ┆   ┆ ---      ┆ ---     ┆ ---   ┆ ---           │\n",
       "│ str    ┆ str                 ┆ f64     ┆ f64    ┆   ┆ f64      ┆ i64     ┆ bool  ┆ i64           │\n",
       "╞════════╪═════════════════════╪═════════╪════════╪═══╪══════════╪═════════╪═══════╪═══════════════╡\n",
       "│ AAPL   ┆ 2025-08-04T04:00:00 ┆ 204.505 ┆ 207.88 ┆ … ┆ 204.2151 ┆ 785189  ┆ false ┆ 1754280000000 │\n",
       "│        ┆ +00:00              ┆         ┆        ┆   ┆          ┆         ┆       ┆               │\n",
       "│ AAPL   ┆ 2025-08-05T04:00:00 ┆ 203.4   ┆ 205.34 ┆ … ┆ 203.548  ┆ 491748  ┆ false ┆ 1754366400000 │\n",
       "│        ┆ +00:00              ┆         ┆        ┆   ┆          ┆         ┆       ┆               │\n",
       "│ AAPL   ┆ 2025-08-06T04:00:00 ┆ 205.63  ┆ 215.38 ┆ … ┆ 212.8573 ┆ 1104103 ┆ false ┆ 1754452800000 │\n",
       "│        ┆ +00:00              ┆         ┆        ┆   ┆          ┆         ┆       ┆               │\n",
       "│ GOOG   ┆ 2025-08-04T04:00:00 ┆ 191.175 ┆ 196.08 ┆ … ┆ 194.6919 ┆ 307973  ┆ false ┆ 1754280000000 │\n",
       "│        ┆ +00:00              ┆         ┆        ┆   ┆          ┆         ┆       ┆               │\n",
       "│ GOOG   ┆ 2025-08-05T04:00:00 ┆ 195.545 ┆ 198.7  ┆ … ┆ 196.1972 ┆ 251137  ┆ false ┆ 1754366400000 │\n",
       "│        ┆ +00:00              ┆         ┆        ┆   ┆          ┆         ┆       ┆               │\n",
       "│ GOOG   ┆ 2025-08-06T04:00:00 ┆ 195.25  ┆ 197.38 ┆ … ┆ 196.368  ┆ 220636  ┆ false ┆ 1754452800000 │\n",
       "│        ┆ +00:00              ┆         ┆        ┆   ┆          ┆         ┆       ┆               │\n",
       "└────────┴─────────────────────┴─────────┴────────┴───┴──────────┴─────────┴───────┴───────────────┘"
      ]
     },
     "execution_count": 8,
     "metadata": {},
     "output_type": "execute_result"
    }
   ],
   "source": [
    "DataManager.get_historical_ohlc(start_date='2025-08-05', end_date='2025-08-08', tickers=['AAPL', 'GOOG'], timeframe='day', multiplier=1)"
   ]
  }
 ],
 "metadata": {
  "kernelspec": {
   "display_name": "venv",
   "language": "python",
   "name": "python3"
  },
  "language_info": {
   "codemirror_mode": {
    "name": "ipython",
    "version": 3
   },
   "file_extension": ".py",
   "mimetype": "text/x-python",
   "name": "python",
   "nbconvert_exporter": "python",
   "pygments_lexer": "ipython3",
   "version": "3.12.3"
  }
 },
 "nbformat": 4,
 "nbformat_minor": 5
}
